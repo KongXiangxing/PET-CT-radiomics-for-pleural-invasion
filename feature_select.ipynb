{
 "cells": [
  {
   "cell_type": "code",
   "execution_count": null,
   "metadata": {},
   "outputs": [],
   "source": [
    "import pandas as pd\n",
    "import warnings\n",
    "import numpy as np\n",
    "import sklearn\n",
    "\n",
    "warnings.filterwarnings(\"ignore\")"
   ]
  },
  {
   "cell_type": "code",
   "execution_count": null,
   "metadata": {},
   "outputs": [],
   "source": [
    "tt_filepath = \"./output/train_test.csv\"\n",
    "v_filepath = \"./output/validation.csv\"\n",
    "train_test = pd.read_csv(tt_filepath)\n",
    "vali = pd.read_csv(v_filepath)\n"
   ]
  },
  {
   "cell_type": "code",
   "execution_count": null,
   "id": "42185ae5",
   "metadata": {},
   "outputs": [],
   "source": [
    "\n",
    "\n",
    "data_t =  pd.concat([train_test[[\"label\"]],train_test.loc[:,'SEX':\"PET_original_gldm_SmallDependenceLowGrayLevelEmphasis\"]],axis=1)\n",
    "data_v = pd.concat([vali[[\"label\"]],vali.loc[:,'SEX':\"PET_original_gldm_SmallDependenceLowGrayLevelEmphasis\"]],axis=1)"
   ]
  },
  {
   "cell_type": "code",
   "execution_count": null,
   "metadata": {},
   "outputs": [],
   "source": [
    "data_t = sklearn.utils.shuffle(data_t)\n",
    "data_v = sklearn.utils.shuffle(data_v)\n",
    "\n",
    "X = data_t.loc[:,\"SEX\":]\n",
    "y = data_t['label']\n",
    "Xvv = data_v.loc[:,\"SEX\":]\n",
    "y_v = data_v[\"label\"]\n",
    "columns = Xvv.columns\n",
    "X.head(5)"
   ]
  },
  {
   "cell_type": "code",
   "execution_count": null,
   "metadata": {},
   "outputs": [],
   "source": [
    "from sklearn.linear_model import LassoCV\n",
    "alphas = np.logspace(-3,1,100)\n",
    "model_lassoCV = sklearn.linear_model.LassoCV(alphas = alphas, cv = 10, max_iter = 1000000).fit(X,y)\n",
    "print(\"alpha = \" + str(model_lassoCV.alpha_))\n",
    "coef = pd.Series(model_lassoCV.coef_,index = X.columns)\n",
    "print('Lasso picked ' + str(sum(coef !=0))+' variables and eliminated the other ' + str(sum(coef == 0)))\n",
    "\n",
    "index = coef[coef != 0].index\n",
    "X_t = X[index]\n",
    "print(coef[coef !=0])\n"
   ]
  },
  {
   "cell_type": "code",
   "execution_count": null,
   "id": "02eb836d",
   "metadata": {},
   "outputs": [],
   "source": [
    "from sklearn.linear_model import Lasso\n",
    "model_lasso = Lasso(alpha=0.045, max_iter=10000).fit(X,y)\n",
    "coef_ = pd.Series(model_lasso.coef_,index = X.columns)\n",
    "print('Lasso picked ' + str(sum(coef_ !=0))+' variables and eliminated the other ' + str(sum(coef_ == 0)))\n",
    "\n",
    "index = coef_[coef_ != 0].index\n",
    "X_t = X[index]\n",
    "print(coef_[coef_ !=0])"
   ]
  },
  {
   "cell_type": "code",
   "execution_count": null,
   "metadata": {},
   "outputs": [],
   "source": [
    "import itertools\n",
    "comb = list(itertools.combinations(index,5))\n",
    "print(len(comb))\n",
    "# print(comb)"
   ]
  },
  {
   "cell_type": "code",
   "execution_count": null,
   "metadata": {},
   "outputs": [],
   "source": [
    "from model import cross_model\n",
    "X = pd.DataFrame()\n",
    "X_v = pd.DataFrame()\n",
    "score = pd.DataFrame()\n",
    "col = []\n",
    "a = 0\n",
    "for non in comb:\n",
    "    cli_ = [cli_ for cli_ in non if cli_  in cli]\n",
    "    ct_ = [ct_ for ct_ in non if ct_ in ct]\n",
    "    pet_ = [pet_ for pet_ in non if pet_ in pet]\n",
    "    if len(cli_) != 0 and len(ct_) != 0 and len(pet_) != 0:\n",
    "        col.append(non)\n",
    "        for i in non:\n",
    "            X_v = pd.concat([X_v,Xvv[[i]]],axis=1)\n",
    "            X = pd.concat([X,X_t[[i]]],axis=1)\n",
    "        score_rf, score_rf_v,__,__ = cross_model.rf(X, y, X_v, y_v)\n",
    "        score_NB, score_NB_v,__,__ = cross_model.NB(X, y, X_v, y_v)\n",
    "        score_Gtree, score_Gtree_v,__,__ = cross_model.Gtree(X, y, X_v, y_v)\n",
    "        score_gbm, score_gbm_v,__,__ = cross_model.gbm(X, y, X_v, y_v)\n",
    "        score_xgb, score_xgb_v,__,__ = cross_model.xgb(X, y, X_v, y_v)\n",
    "        score_lore, score_lore_v,__,__ = cross_model.lore(X, y,X_v, y_v)\n",
    "        score1 = [[score_rf, score_rf_v,score_NB, score_NB_v,score_Gtree, score_Gtree_v,\n",
    "                score_gbm, score_gbm_v,score_xgb, score_xgb_v,score_lore, score_lore_v]]\n",
    "        score2 = pd.DataFrame(score1)\n",
    "        score = pd.concat([score,score2],axis=0)\n",
    "        X = pd.DataFrame()\n",
    "        X_v = pd.DataFrame()\n",
    "        a = a + 1\n",
    "    if a % 1000 == 0:\n",
    "        score.to_csv(\"./output/test1.csv\",sep=',',mode=\"a\",index=False,header=None)\n",
    "        score = pd.DataFrame()\n"
   ]
  },
  {
   "cell_type": "code",
   "execution_count": null,
   "metadata": {},
   "outputs": [],
   "source": [
    "print(len(col))\n",
    "col2 = col[0:27000]\n",
    "print(len(col2))"
   ]
  },
  {
   "cell_type": "code",
   "execution_count": null,
   "metadata": {},
   "outputs": [],
   "source": [
    "test_path = \"./output/test1.csv\"\n",
    "test = pd.read_csv(test_path)\n",
    "test.iloc[[0]]"
   ]
  },
  {
   "cell_type": "code",
   "execution_count": null,
   "metadata": {},
   "outputs": [],
   "source": [
    "def stat(feature):\n",
    "    c = []\n",
    "    data_f = pd.DataFrame()\n",
    "    des = pd.DataFrame()\n",
    "    for b in col2:\n",
    "        if feature in b:\n",
    "            c1 = col2.index(b)\n",
    "            c.append(c1)\n",
    "    for c2 in c:\n",
    "        f1 = test.iloc[[c2]]\n",
    "        data_f = pd.concat([data_f,f1],axis=0)\n",
    "    for fea in data_f.columns:\n",
    "        des1 = data_f[[fea]].describe()\n",
    "        des2 = pd.DataFrame(des1)\n",
    "        des2.columns = [feature]\n",
    "        des = pd.concat([des,des2],axis=0)\n",
    "    return des\n",
    "    \n"
   ]
  },
  {
   "cell_type": "code",
   "execution_count": null,
   "metadata": {},
   "outputs": [],
   "source": [
    "feature_select = pd.DataFrame()\n",
    "for feature in index:\n",
    "    feature_s = stat(feature)\n",
    "    feature_select = pd.concat([feature_select,feature_s],axis=1)\n",
    "feature_select.to_csv(\"./output/feature_select.csv\")"
   ]
  },
  {
   "cell_type": "code",
   "execution_count": null,
   "metadata": {},
   "outputs": [],
   "source": [
    "feature_select = pd.read_csv(\"./output/feature_select.csv\")"
   ]
  },
  {
   "cell_type": "code",
   "execution_count": null,
   "id": "7165b9be",
   "metadata": {},
   "outputs": [],
   "source": [
    "from statsmodels.api import OLS\n",
    "import statsmodels.api as sm\n",
    "def stepwise_selection(data, target,SL_in=0.05,SL_out = 0.05):\n",
    "    initial_features = data.columns.tolist()\n",
    "    best_features = []\n",
    "    while (len(initial_features)>0):\n",
    "        remaining_features = list(set(initial_features)-set(best_features))\n",
    "        new_pval = pd.Series(index=remaining_features)\n",
    "        for new_column in remaining_features:\n",
    "            model = OLS(target, sm.add_constant(data[best_features+[new_column]])).fit()\n",
    "            new_pval[new_column] = model.pvalues[new_column]\n",
    "        min_p_value = new_pval.min()\n",
    "        if(min_p_value<SL_in):\n",
    "            best_features.append(new_pval.idxmin())\n",
    "            while(len(best_features)>0):\n",
    "                best_features_with_constant = sm.add_constant(data[best_features])\n",
    "                p_values = OLS(target, best_features_with_constant).fit().pvalues[1:]\n",
    "                max_p_value = p_values.max()\n",
    "                if(max_p_value >= SL_out):\n",
    "                    excluded_feature = p_values.idxmax()\n",
    "                    best_features.remove(excluded_feature)\n",
    "                else:\n",
    "                    break \n",
    "        else:\n",
    "            break\n",
    "    return best_features"
   ]
  },
  {
   "cell_type": "code",
   "execution_count": null,
   "id": "54914822",
   "metadata": {},
   "outputs": [],
   "source": [
    "stepwise_selection(X,y)"
   ]
  },
  {
   "cell_type": "code",
   "execution_count": null,
   "metadata": {},
   "outputs": [],
   "source": [
    "from statsmodels.formula.api import ols\n",
    "\n",
    "def forward_select(data,target):\n",
    "    variate=list(set(data.columns))  \n",
    "    variate.remove(target)  \n",
    "    selected=[]\n",
    "    selected_b = []\n",
    "    current_score,best_new_score=float('inf'),float('inf') \n",
    "    current_score_b,best_new_score_b=float('inf'),float('inf')\n",
    "    while variate:\n",
    "        aic_with_variate=[]\n",
    "        aic_with_variate_b=[] \n",
    "        for candidate in variate:  \n",
    "            formula=\"{}~{}\".format(target,\"+\".join(selected+[candidate])) \n",
    "            aic=ols(formula=formula,data=data).fit().aic  \n",
    "            aic_with_variate.append((aic,candidate))\n",
    "              \n",
    "        aic_with_variate.sort(reverse=True)  \n",
    "        best_new_score,best_candidate=aic_with_variate.pop() \n",
    "        if current_score>best_new_score and best_new_score > -100:  \n",
    "            selected.append(best_candidate)  \n",
    "            current_score=best_new_score  \n",
    "            print(\"aic is {},continuing!\".format(current_score))  \n",
    "        \n",
    "        else:\n",
    "            break\n",
    "    return selected\n",
    "        \n",
    "        \n",
    "       \n",
    "    \n"
   ]
  },
  {
   "cell_type": "code",
   "execution_count": null,
   "metadata": {},
   "outputs": [],
   "source": [
    "data = pd.concat([X_t,y],axis=1)\n",
    "data.head(5)"
   ]
  },
  {
   "cell_type": "code",
   "execution_count": null,
   "metadata": {},
   "outputs": [],
   "source": [
    "forward_select(data,\"label\")"
   ]
  },
  {
   "cell_type": "code",
   "execution_count": null,
   "metadata": {},
   "outputs": [],
   "source": [
    "from sklearn.feature_selection import SelectKBest\n",
    "from sklearn.feature_selection import chi2\n",
    "\n",
    "X1 = sklearn.preprocessing.MinMaxScaler().fit_transform(X)\n",
    "model_chi = SelectKBest(chi2,k=5)\n",
    "model_chi.fit_transform(X1,y)\n",
    "model_chi.scores_\n",
    "X.columns[model_chi.get_support(True)]"
   ]
  },
  {
   "cell_type": "code",
   "execution_count": null,
   "id": "f5714a1f",
   "metadata": {},
   "outputs": [],
   "source": [
    "import lightgbm as lgb\n",
    "import matplotlib.pyplot as plt\n",
    "scorel = []\n",
    "for i in range(0,20,1):\n",
    "    model = lgb.LGBMClassifier(n_estimators=i+1,\n",
    "                                 n_jobs=--4,\n",
    "                                 random_state=90).fit(X,y)\n",
    "    score = model.score(X,y)\n",
    "    scorel.append(score)\n",
    "\n",
    "print(max(scorel),(scorel.index(max(scorel))*1)+1)  \n",
    "plt.figure(figsize=[20,5])\n",
    "plt.plot(range(0,20,1),scorel)\n",
    "plt.savefig(\"./result/feature_selection/LightGBM_num.png\",dpi=600,bbox_inches = 'tight')\n",
    "\n",
    "plt.show()"
   ]
  },
  {
   "cell_type": "code",
   "execution_count": null,
   "metadata": {},
   "outputs": [],
   "source": [
    "n = 15\n",
    "model = lgb.LGBMClassifier().fit(X, y)\n",
    "lgb.plot_importance(model,  max_num_features=n, figsize=(10,5),importance_type='split')\n",
    "\n",
    "plt.savefig(\"./result/feature_selection/LightGBM_CT.png\",dpi=600,bbox_inches = 'tight')\n",
    "plt.show()"
   ]
  },
  {
   "cell_type": "code",
   "execution_count": null,
   "id": "dc4b5f11",
   "metadata": {},
   "outputs": [],
   "source": [
    "feature_weight = model.feature_importances_\n",
    "feature_name = model.feature_name_\n",
    "feature_sort = pd.Series(data = feature_weight ,index = feature_name)\n",
    "feature_sort = feature_sort.sort_values(ascending = False)\n",
    "feature_sort.index[0:n]"
   ]
  },
  {
   "cell_type": "code",
   "execution_count": null,
   "id": "798bcee7",
   "metadata": {},
   "outputs": [],
   "source": [
    "from sklearn.model_selection import GridSearchCV\n",
    "import matplotlib.pyplot as plt\n",
    "import xgboost as xgb\n",
    "from xgboost import plot_tree\n",
    "scorel = []\n",
    "for i in range(0,20,1):\n",
    "    model = xgb.XGBClassifier(n_estimators=i+1,\n",
    "                                 n_jobs=--4,\n",
    "                                 random_state=90).fit(X,y)\n",
    "    score = model.score(X,y)\n",
    "    scorel.append(score)\n",
    "\n",
    "print(max(scorel),(scorel.index(max(scorel))*1)+1)  \n",
    "plt.figure(figsize=[20,5])\n",
    "plt.plot(range(0,20,1),scorel)\n",
    "plt.show()"
   ]
  },
  {
   "cell_type": "code",
   "execution_count": null,
   "id": "4cba282b",
   "metadata": {},
   "outputs": [],
   "source": [
    "\n",
    "n = 10\n",
    "model = xgb.XGBClassifier(eval_metric=['logloss','auc','error']).fit(X, y)\n",
    "xgb.plot_importance(model,  max_num_features=n, importance_type='weight')\n",
    "plt.savefig(\"./result/feature_selection/XGBoost_CT.png\",dpi=600,bbox_inches = 'tight')\n",
    "\n",
    "plt.show()\n",
    "\n"
   ]
  },
  {
   "cell_type": "code",
   "execution_count": null,
   "id": "450464b8",
   "metadata": {},
   "outputs": [],
   "source": [
    "importance = model.get_booster().get_score()\n",
    "tuples = [(k, importance[k]) for k in importance]\n",
    "tuples = sorted(tuples, key=lambda x: x[1],reverse=True)\n",
    "feature_names,scores = map(list,zip(*tuples))\n",
    "feature_names[0:n]"
   ]
  }
 ],
 "metadata": {
  "kernelspec": {
   "display_name": "Python 3.7.12 ('radiomics')",
   "language": "python",
   "name": "python3"
  },
  "language_info": {
   "codemirror_mode": {
    "name": "ipython",
    "version": 3
   },
   "file_extension": ".py",
   "mimetype": "text/x-python",
   "name": "python",
   "nbconvert_exporter": "python",
   "pygments_lexer": "ipython3",
   "version": "3.7.12"
  },
  "vscode": {
   "interpreter": {
    "hash": "0c3174b46a768decaeca223103987edb75277ce7cd4f742e385bdded699d71c5"
   }
  }
 },
 "nbformat": 4,
 "nbformat_minor": 5
}
