{
 "cells": [
  {
   "cell_type": "code",
   "execution_count": null,
   "id": "e4bd6e00",
   "metadata": {},
   "outputs": [],
   "source": [
    "import pandas as pd\n",
    "import numpy as np\n",
    "import sklearn"
   ]
  },
  {
   "cell_type": "code",
   "execution_count": null,
   "id": "80c2b30f",
   "metadata": {},
   "outputs": [],
   "source": [
    "tt_filepath = \"./output/train_test.csv\"\n",
    "v_filepath = \"./output/validation.csv\"\n",
    "train_test = pd.read_csv(tt_filepath)\n",
    "vali = pd.read_csv(v_filepath)\n"
   ]
  },
  {
   "cell_type": "code",
   "execution_count": null,
   "id": "42185ae5",
   "metadata": {},
   "outputs": [],
   "source": [
    "# %perl -0\n",
    "\n",
    "data_t =  pd.concat([train_test[[\"label\"]],train_test.loc[:,'SEX':\"PET_original_gldm_SmallDependenceLowGrayLevelEmphasis\"]],axis=1)\n",
    "data_v = pd.concat([vali[[\"label\"]],vali.loc[:,'SEX':\"PET_original_gldm_SmallDependenceLowGrayLevelEmphasis\"]],axis=1)"
   ]
  },
  {
   "cell_type": "code",
   "execution_count": null,
   "id": "69be4c4e",
   "metadata": {},
   "outputs": [],
   "source": [
    "\n",
    "\n",
    "\n",
    "data_t = sklearn.utils.shuffle(data_t)\n",
    "data_v = sklearn.utils.shuffle(data_v)\n",
    "\n",
    "X = data_t.loc[:,\"SEX\":]\n",
    "y = data_t['label']\n",
    "Xvv = data_v.loc[:,\"SEX\":]\n",
    "y_v = data_v[\"label\"]\n",
    "columns = Xvv.columns\n",
    "X.head(5)"
   ]
  },
  {
   "cell_type": "code",
   "execution_count": null,
   "id": "90676463",
   "metadata": {},
   "outputs": [],
   "source": [
    "feature = ['PET_original_shape_Sphericity', 'CYFRA21_1', 'PET_original_shape_SurfaceVolumeRatio', 'original_glcm_Imc1', 'original_firstorder_Maximum', 'NSE', 'original_shape_Sphericity', 'PET_original_shape_MajorAxisLength', 'PET_original_firstorder_Kurtosis', 'CA199', 'PET_original_shape_Flatness', 'original_glszm_ZoneEntropy', 'original_gldm_LargeDependenceLowGrayLevelEmphasis', 'SCC', 'PET_original_shape_Elongation']\n"
   ]
  },
  {
   "cell_type": "code",
   "execution_count": null,
   "id": "b33d382d",
   "metadata": {},
   "outputs": [],
   "source": [
    "X_v = Xvv[feature]\n",
    "X_t = X[feature]"
   ]
  },
  {
   "cell_type": "code",
   "execution_count": null,
   "id": "e16e6b8a",
   "metadata": {},
   "outputs": [],
   "source": [
    "from model import cross_model\n",
    "\n",
    "cross_model.rf(X_t, y, X_v, y_v)\n",
    "\n",
    "cross_model.dbt(X_t, y, X_v, y_v)\n",
    "cross_model.knn(X_t, y, X_v, y_v)\n",
    "cross_model.NB(X_t, y, X_v, y_v)\n",
    "cross_model.BNB(X_t, y, X_v, y_v)\n",
    "cross_model.Dtree(X_t, y, X_v, y_v)\n",
    "cross_model.Gtree(X_t, y, X_v, y_v)\n",
    "cross_model.mlp(X_t, y, X_v, y_v)\n",
    "cross_model.gbm(X_t, y, X_v, y_v)\n",
    "cross_model.xgb(X_t, y, X_v, y_v)\n",
    "cross_model.lore(X_t, y,X_v, y_v)\n",
    "\n",
    "cross_model.SVM(X_t, y, X_v, y_v)"
   ]
  },
  {
   "cell_type": "code",
   "execution_count": null,
   "id": "67b077ab",
   "metadata": {},
   "outputs": [],
   "source": []
  }
 ],
 "metadata": {
  "kernelspec": {
   "display_name": "Python 3.7.12 ('radiomics')",
   "language": "python",
   "name": "python3"
  },
  "language_info": {
   "codemirror_mode": {
    "name": "ipython",
    "version": 3
   },
   "file_extension": ".py",
   "mimetype": "text/x-python",
   "name": "python",
   "nbconvert_exporter": "python",
   "pygments_lexer": "ipython3",
   "version": "3.7.12"
  },
  "vscode": {
   "interpreter": {
    "hash": "0c3174b46a768decaeca223103987edb75277ce7cd4f742e385bdded699d71c5"
   }
  }
 },
 "nbformat": 4,
 "nbformat_minor": 5
}
