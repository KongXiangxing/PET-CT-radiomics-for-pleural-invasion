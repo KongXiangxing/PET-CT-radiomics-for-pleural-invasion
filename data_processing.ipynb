{
 "cells": [
  {
   "cell_type": "code",
   "execution_count": 1,
   "metadata": {},
   "outputs": [],
   "source": [
    "import os\n",
    "import radiomics\n",
    "import pandas as pd\n",
    "import numpy as np\n",
    "import SimpleITK as sitk\n",
    "from sklearn.model_selection import train_test_split\n",
    "from sklearn.preprocessing import StandardScaler"
   ]
  },
  {
   "cell_type": "code",
   "execution_count": null,
   "metadata": {},
   "outputs": [],
   "source": [
    "para_path_CT = \"./Params/Params.yaml\"\n",
    "extractor_CT = radiomics.featureextractor.RadiomicsFeatureExtractor(para_path_CT)\n",
    "df_CT = pd.DataFrame()\n",
    "path = \"./Pleural_Radiomics/1\""
   ]
  },
  {
   "cell_type": "code",
   "execution_count": null,
   "metadata": {},
   "outputs": [],
   "source": [
    "for folder in os.listdir(path):\n",
    "    df_CT_ID = pd.DataFrame([str(folder)], columns =[\"ID\"])\n",
    "    label = pd.DataFrame([1],columns=[\"label\"])\n",
    "    dataDir = os.path.join(path, folder)\n",
    "    imageName = \"CT.nii.gz\"\n",
    "    maskName = \"CT_M.nii.gz\"\n",
    "    imagePath = os.path.join(dataDir, imageName)\n",
    "    maskPath = os.path.join(dataDir , maskName)\n",
    "    featureVector_CT = extractor_CT.execute(imagePath, maskPath)  \n",
    "    df_add_CT = pd.DataFrame.from_dict(featureVector_CT.values()).T\n",
    "    df_add_CT.columns = featureVector_CT.keys()\n",
    "    col1 = pd.concat([df_CT_ID,label],axis=1)\n",
    "    col2 = pd.concat([col1,df_add_CT],axis=1)\n",
    "    df_CT = pd.concat([df_CT, col2])\n"
   ]
  },
  {
   "cell_type": "code",
   "execution_count": null,
   "metadata": {},
   "outputs": [],
   "source": [
    "df_CT.to_csv(\"./output/extract_CT.csv\")"
   ]
  },
  {
   "cell_type": "code",
   "execution_count": null,
   "metadata": {},
   "outputs": [],
   "source": [
    "para_path = \"./Params/Params_2.yaml\"\n",
    "extractor = radiomics.featureextractor.RadiomicsFeatureExtractor(para_path)\n",
    "df_PET = pd.DataFrame()\n"
   ]
  },
  {
   "cell_type": "code",
   "execution_count": null,
   "id": "816dfbfc",
   "metadata": {},
   "outputs": [],
   "source": [
    "for folder in os.listdir(path):\n",
    "    df_PET_ID = pd.DataFrame([str(folder)], columns =[\"ID\"])\n",
    "    label = pd.DataFrame([1],columns=[\"label\"])\n",
    "    dataDir = os.path.join(path, folder)\n",
    "    imageName =  \"PET.nii.gz\"\n",
    "    maskName = \"PET_M_R.nii.gz\"\n",
    "    imagePath = os.path.join(dataDir, imageName)\n",
    "    maskPath = os.path.join(dataDir , maskName)\n",
    "    print(folder) \n",
    "    featureVector = extractor.execute(imagePath, maskPath) \n",
    "    df_add = pd.DataFrame.from_dict(featureVector.values()).T\n",
    "    df_add.columns = featureVector.keys()\n",
    "    col1 = pd.concat([df_PET_ID,label],axis=1)\n",
    "    col2 = pd.concat([col1,df_add],axis=1)\n",
    "    df_PET = pd.concat([df_PET, col2])\n",
    "columns_list = df_PET.columns.to_list()\n",
    "pet_columns = ['PET_'+str(i) for i in columns_list]\n",
    "df_PET.columns = pet_columns\n"
   ]
  },
  {
   "cell_type": "code",
   "execution_count": null,
   "metadata": {},
   "outputs": [],
   "source": [
    "df_PET = df_PET.rename(columns={'PET_ID':'ID'})\n",
    "df_PET.to_csv(\"./output/extract_PET.csv\")"
   ]
  },
  {
   "cell_type": "code",
   "execution_count": null,
   "metadata": {},
   "outputs": [],
   "source": [
    "data = pd.read_csv(\"./output/data.csv\")\n",
    "X_n = data.loc[:,\"AGE\":]\n",
    "# X_n.head(5)\n",
    "colNames = X_n.columns\n",
    "X_n = X_n.astype(np.float64)\n",
    "X_n = X_n.fillna(X_n.mean())\n",
    "X_n = StandardScaler().fit_transform(X_n)\n",
    "X_n = pd.DataFrame(X_n)\n",
    "X_n.columns = colNames\n",
    "data_n = pd.concat([data.loc[:,\"label\":\"Pathology\"],X_n],axis=1)\n",
    "data_n.to_csv(\"./output/data_n.csv\")"
   ]
  }
 ],
 "metadata": {
  "kernelspec": {
   "display_name": "Python 3.7.12 ('radiomics')",
   "language": "python",
   "name": "python3"
  },
  "language_info": {
   "codemirror_mode": {
    "name": "ipython",
    "version": 3
   },
   "file_extension": ".py",
   "mimetype": "text/x-python",
   "name": "python",
   "nbconvert_exporter": "python",
   "pygments_lexer": "ipython3",
   "version": "3.7.12"
  },
  "vscode": {
   "interpreter": {
    "hash": "0c3174b46a768decaeca223103987edb75277ce7cd4f742e385bdded699d71c5"
   }
  }
 },
 "nbformat": 4,
 "nbformat_minor": 5
}
